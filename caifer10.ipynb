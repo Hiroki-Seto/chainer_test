{
 "cells": [
  {
   "cell_type": "code",
   "execution_count": 1,
   "metadata": {},
   "outputs": [
    {
     "name": "stderr",
     "output_type": "stream",
     "text": [
      "/anaconda/envs/py35/lib/python3.5/site-packages/h5py/__init__.py:36: FutureWarning: Conversion of the second argument of issubdtype from `float` to `np.floating` is deprecated. In future, it will be treated as `np.float64 == np.dtype(float).type`.\n",
      "  from ._conv import register_converters as _register_converters\n"
     ]
    }
   ],
   "source": [
    "import os\n",
    "import json\n",
    "import shutil\n",
    "import numpy as np\n",
    "import chainer\n",
    "from chainer import cuda, Function, gradient_check, report, training, utils, Variable\n",
    "from chainer import datasets, iterators, optimizers, serializers\n",
    "from chainer import Link, Chain, ChainList\n",
    "import chainer.functions as F\n",
    "import chainer.links as L\n",
    "from chainer.training import extensions\n",
    "\n",
    "import chainer.datasets as t\n",
    "\n",
    "from chainer.datasets import cifar"
   ]
  },
  {
   "cell_type": "code",
   "execution_count": 2,
   "metadata": {},
   "outputs": [],
   "source": [
    "from model_builder import Builder"
   ]
  },
  {
   "cell_type": "code",
   "execution_count": 3,
   "metadata": {},
   "outputs": [],
   "source": [
    "class VGG(chainer.Chain):\n",
    "\n",
    "    def __init__(self, n_class=10):\n",
    "        super(VGG, self).__init__()\n",
    "        with self.init_scope():\n",
    "            self.conv1_1 = L.Convolution2D(None, 64, 3, pad=1)\n",
    "            self.bn1_1 = L.BatchNormalization(64)\n",
    "            self.conv1_2 = L.Convolution2D(64, 64, 3, pad=1)\n",
    "            self.bn1_2 = L.BatchNormalization(64)\n",
    "\n",
    "            self.conv2_1 = L.Convolution2D(64, 128, 3, pad=1)\n",
    "            self.bn2_1 = L.BatchNormalization(128)\n",
    "            self.conv2_2 = L.Convolution2D(128, 128, 3, pad=1)\n",
    "            self.bn2_2 = L.BatchNormalization(128)\n",
    "\n",
    "            self.conv3_1 = L.Convolution2D(128, 256, 3, pad=1)\n",
    "            self.bn3_1 = L.BatchNormalization(256)\n",
    "            self.conv3_2 = L.Convolution2D(256, 256, 3, pad=1)\n",
    "            self.bn3_2 = L.BatchNormalization(256)\n",
    "            self.conv3_3 = L.Convolution2D(256, 256, 3, pad=1)\n",
    "            self.bn3_3 = L.BatchNormalization(256)\n",
    "            self.conv3_4 = L.Convolution2D(256, 256, 3, pad=1)\n",
    "            self.bn3_4 = L.BatchNormalization(256)\n",
    "\n",
    "            self.fc4 = L.Convolution2D(256, 1024, 1, pad=0)\n",
    "            self.fc5 = L.Convolution2D(1024, 1024, 1, pad=0)\n",
    "            self.fc6 = L.Linear(None, n_class)\n",
    "\n",
    "    def __call__(self, x):\n",
    "        h = F.relu(self.bn1_1(self.conv1_1(x)))\n",
    "        h = F.relu(self.bn1_2(self.conv1_2(h)))\n",
    "        h = F.max_pooling_2d(h, 2, 2)\n",
    "        h = F.dropout(h, ratio=0.25)\n",
    "\n",
    "        h = F.relu(self.bn2_1(self.conv2_1(h)))\n",
    "        h = F.relu(self.bn2_2(self.conv2_2(h)))\n",
    "        h = F.max_pooling_2d(h, 2, 2)\n",
    "        h = F.dropout(h, ratio=0.25)\n",
    "\n",
    "        h = F.relu(self.bn3_1(self.conv3_1(h)))\n",
    "        h = F.relu(self.bn3_2(self.conv3_2(h)))\n",
    "        h = F.relu(self.bn3_3(self.conv3_3(h)))\n",
    "        h = F.relu(self.bn3_4(self.conv3_4(h)))\n",
    "        h = F.max_pooling_2d(h, 2, 2)\n",
    "        h = F.dropout(h, ratio=0.25)\n",
    "\n",
    "        h = F.dropout(F.relu(self.fc4(h)), ratio=0.5)\n",
    "        h = F.dropout(F.relu(self.fc5(h)), ratio=0.5)\n",
    "        h = self.fc6(h)\n",
    "        return h"
   ]
  },
  {
   "cell_type": "code",
   "execution_count": 4,
   "metadata": {},
   "outputs": [],
   "source": [
    "config_path = \"./conf/case1.json\""
   ]
  },
  {
   "cell_type": "code",
   "execution_count": 5,
   "metadata": {},
   "outputs": [],
   "source": [
    "with open(config_path, \"r\") as f:\n",
    "    d = json.load(f)\n",
    "opt_str = d[\"optimizer\"]"
   ]
  },
  {
   "cell_type": "code",
   "execution_count": 6,
   "metadata": {},
   "outputs": [],
   "source": [
    "train, test = cifar.get_cifar10()\n",
    "\n",
    "batchsize = 128\n",
    "\n",
    "train_iter = iterators.SerialIterator(train, batchsize)\n",
    "test_iter = iterators.SerialIterator(test, batchsize, False, False)"
   ]
  },
  {
   "cell_type": "code",
   "execution_count": 7,
   "metadata": {},
   "outputs": [],
   "source": [
    "builder = Builder(model_type=\"VGG\")"
   ]
  },
  {
   "cell_type": "code",
   "execution_count": 8,
   "metadata": {},
   "outputs": [],
   "source": [
    "model = builder.build()"
   ]
  },
  {
   "cell_type": "code",
   "execution_count": 9,
   "metadata": {},
   "outputs": [],
   "source": [
    "max_epoch = 1\n",
    "\n",
    "model = L.Classifier(model)\n",
    "\n",
    "gpu_id = 0\n",
    "\n",
    "if gpu_id >= 0:\n",
    "    model.to_gpu(gpu_id)\n",
    "\n",
    "lr = 1e-2"
   ]
  },
  {
   "cell_type": "code",
   "execution_count": 10,
   "metadata": {},
   "outputs": [],
   "source": [
    "if opt_str == \"SGD\":\n",
    "    optimizer = optimizers.MomentumSGD(lr=lr)\n",
    "elif opt_str == \"rms\":\n",
    "    optimizer = optimizers.RMSprop(lr=lr)\n",
    "elif opt_str == \"adam\":\n",
    "    optimizer = optimizers.Adam(alpha=lr)"
   ]
  },
  {
   "cell_type": "code",
   "execution_count": 11,
   "metadata": {},
   "outputs": [],
   "source": [
    "base_dir = os.path.join(\"./\", opt_str)"
   ]
  },
  {
   "cell_type": "code",
   "execution_count": 12,
   "metadata": {},
   "outputs": [],
   "source": [
    "optimizer.setup(model)"
   ]
  },
  {
   "cell_type": "code",
   "execution_count": 13,
   "metadata": {},
   "outputs": [],
   "source": [
    "updater = training.StandardUpdater(train_iter, optimizer, device=gpu_id)\n",
    "\n",
    "trainer = training.Trainer(updater, (max_epoch, 'epoch'), out=base_dir)"
   ]
  },
  {
   "cell_type": "code",
   "execution_count": 14,
   "metadata": {},
   "outputs": [],
   "source": [
    "trainer.extend(extensions.LogReport())\n",
    "trainer.extend(extensions.Evaluator(test_iter, model, device=gpu_id))\n",
    "trainer.extend(extensions.PrintReport(['epoch', 'main/loss', 'main/accuracy', 'validation/main/loss', 'validation/main/accuracy', 'elapsed_time']))\n",
    "trainer.extend(extensions.PlotReport(['main/loss', 'validation/main/loss'], x_key='epoch', file_name='loss.png'))\n",
    "trainer.extend(extensions.PlotReport(['main/accuracy', 'validation/main/accuracy'], x_key='epoch', file_name='accuracy.png'))\n",
    "trainer.extend(extensions.dump_graph('main/loss'))"
   ]
  },
  {
   "cell_type": "code",
   "execution_count": 15,
   "metadata": {},
   "outputs": [
    {
     "name": "stdout",
     "output_type": "stream",
     "text": [
      "epoch       main/loss   main/accuracy  validation/main/loss  validation/main/accuracy  elapsed_time\n",
      "\u001b[J1           2.13117     0.258032       1.89179               0.316851                  74.2429       \n"
     ]
    }
   ],
   "source": [
    "trainer.run()"
   ]
  },
  {
   "cell_type": "code",
   "execution_count": 16,
   "metadata": {},
   "outputs": [],
   "source": [
    "file_name = config_path.split(\"/\")[-1]"
   ]
  },
  {
   "cell_type": "code",
   "execution_count": 17,
   "metadata": {},
   "outputs": [
    {
     "data": {
      "text/plain": [
       "'./SGD/case1.json'"
      ]
     },
     "execution_count": 17,
     "metadata": {},
     "output_type": "execute_result"
    }
   ],
   "source": [
    "shutil.copy(config_path, os.path.join(base_dir, file_name))"
   ]
  },
  {
   "cell_type": "code",
   "execution_count": null,
   "metadata": {},
   "outputs": [],
   "source": []
  }
 ],
 "metadata": {
  "kernelspec": {
   "display_name": "Python [conda env:py35]",
   "language": "python",
   "name": "conda-env-py35-py"
  },
  "language_info": {
   "codemirror_mode": {
    "name": "ipython",
    "version": 3
   },
   "file_extension": ".py",
   "mimetype": "text/x-python",
   "name": "python",
   "nbconvert_exporter": "python",
   "pygments_lexer": "ipython3",
   "version": "3.5.4"
  }
 },
 "nbformat": 4,
 "nbformat_minor": 2
}
